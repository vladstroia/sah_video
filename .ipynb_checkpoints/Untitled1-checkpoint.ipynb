{
 "cells": [
  {
   "cell_type": "code",
   "execution_count": 5,
   "id": "d0119a95-747a-4e99-b9a2-c71adb9adff4",
   "metadata": {},
   "outputs": [
    {
     "data": {
      "image/png": "[encoded data removed]",
      "text/plain": [
       "<Figure size 432x288 with 1 Axes>"
      ]
     },
     "metadata": {
      "needs_background": "light"
     },
     "output_type": "display_data"
    }
   ],
   "source": [
    "import geometrieSah as gs\n",
    "import matplotlib.pyplot as plt\n",
    "\n",
    "# aici trebuie sa pui coordonatele colturilor\n",
    "corners = [gs.Point(5,4),gs.Point(8,2),gs.Point(10,3.6),gs.Point(7,5)]\n",
    "\n",
    "# asta e variabila in care vor fi coordonatele centrelor patratelor\n",
    "patrate = gs.getInnerSquareCoordinates(corners)\n",
    "\n",
    "\n",
    "######################################\n",
    "    ###Plotting\n",
    "####################################\n",
    "for i in range(8):\n",
    "  for j in range(8):\n",
    "    patrate[i][j].plot()\n",
    "plt.show()"
   ]
  }
 ],
 "metadata": {
  "kernelspec": {
   "display_name": "Python 3 (ipykernel)",
   "language": "python",
   "name": "python3"
  },
  "language_info": {
   "codemirror_mode": {
    "name": "ipython",
    "version": 3
   },
   "file_extension": ".py",
   "mimetype": "text/x-python",
   "name": "python",
   "nbconvert_exporter": "python",
   "pygments_lexer": "ipython3",
   "version": "3.9.5"
  }
 },
 "nbformat": 4,
 "nbformat_minor": 5
}
