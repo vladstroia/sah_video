{
 "cells": [
  {
   "cell_type": "code",
   "execution_count": null,
   "id": "d0119a95-747a-4e99-b9a2-c71adb9adff4",
   "metadata": {},
   "outputs": [],
   "source": [
    "import geometrieSah\n",
    "import matplotlib.pyplot as plt\n",
    "\n",
    "\n",
    "corners = [Point(5,4),Point(8,2),Point(10,3.6),Point(7,5)]\n",
    "\n",
    "patrate = getInnerSquareCoordinates(corners)\n",
    "\n",
    "\n",
    "\n",
    "######################################\n",
    "    ###Plotting\n",
    "####################################\n",
    "for i in range(8):\n",
    "  for j in range(8):\n",
    "    patrate[i][j].plot()\n",
    "plt.subplots(figsize=(18, 18))\n",
    "# axes.set_aspect(1./axes.get_data_ratio())\n",
    "plt.axis('equal')\n",
    "# plt.plot([puncte_de_fuga[0].x,corners[1].x],[puncte_de_fuga[0].y,corners[1].y])\n",
    "# plt.plot([puncte_de_fuga[0].x,corners[2].x],[puncte_de_fuga[0].y,corners[2].y])\n",
    "# plt.plot([puncte_de_fuga[1].x,corners[0].x],[puncte_de_fuga[1].y,corners[0].y])\n",
    "# plt.plot([puncte_de_fuga[1].x,corners[1].x],[puncte_de_fuga[1].y,corners[1].y])\n",
    "plt.plot(figsize=(18, 18))\n",
    "plt.show()"
   ]
  }
 ],
 "metadata": {
  "kernelspec": {
   "display_name": "",
   "name": ""
  },
  "language_info": {
   "name": ""
  }
 },
 "nbformat": 4,
 "nbformat_minor": 5
}
